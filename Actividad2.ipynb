{
 "cells": [
  {
   "cell_type": "code",
   "execution_count": 9,
   "metadata": {},
   "outputs": [],
   "source": [
    "import pandas as pd\n",
    "import numpy as np\n",
    "import matplotlib.pyplot as plt"
   ]
  },
  {
   "cell_type": "code",
   "execution_count": 10,
   "metadata": {},
   "outputs": [],
   "source": [
    "df0 = pd.read_csv('sonora.txt', skiprows=4, sep='\\s+')"
   ]
  },
  {
   "cell_type": "code",
   "execution_count": 11,
   "metadata": {},
   "outputs": [
    {
     "data": {
      "text/html": [
       "<div>\n",
       "<style scoped>\n",
       "    .dataframe tbody tr th:only-of-type {\n",
       "        vertical-align: middle;\n",
       "    }\n",
       "\n",
       "    .dataframe tbody tr th {\n",
       "        vertical-align: top;\n",
       "    }\n",
       "\n",
       "    .dataframe thead th {\n",
       "        text-align: right;\n",
       "    }\n",
       "</style>\n",
       "<table border=\"1\" class=\"dataframe\">\n",
       "  <thead>\n",
       "    <tr style=\"text-align: right;\">\n",
       "      <th></th>\n",
       "      <th>DD/MM/AAAA</th>\n",
       "      <th>HH:MM</th>\n",
       "      <th>DIRS</th>\n",
       "      <th>DIRR</th>\n",
       "      <th>VELS</th>\n",
       "      <th>VELR</th>\n",
       "      <th>TEMP</th>\n",
       "      <th>HR</th>\n",
       "      <th>PB</th>\n",
       "      <th>PREC</th>\n",
       "      <th>RADSOL</th>\n",
       "    </tr>\n",
       "  </thead>\n",
       "  <tbody>\n",
       "    <tr>\n",
       "      <th>0</th>\n",
       "      <td>21/01/2019</td>\n",
       "      <td>12:00</td>\n",
       "      <td>14.0</td>\n",
       "      <td>352.0</td>\n",
       "      <td>7.24</td>\n",
       "      <td>14.4</td>\n",
       "      <td>7.6</td>\n",
       "      <td>79.0</td>\n",
       "      <td>1013.3</td>\n",
       "      <td>0.0</td>\n",
       "      <td>-1.0</td>\n",
       "    </tr>\n",
       "    <tr>\n",
       "      <th>1</th>\n",
       "      <td>21/01/2019</td>\n",
       "      <td>13:00</td>\n",
       "      <td>346.0</td>\n",
       "      <td>331.0</td>\n",
       "      <td>10.81</td>\n",
       "      <td>21.6</td>\n",
       "      <td>7.0</td>\n",
       "      <td>82.0</td>\n",
       "      <td>1013.5</td>\n",
       "      <td>0.0</td>\n",
       "      <td>-1.0</td>\n",
       "    </tr>\n",
       "    <tr>\n",
       "      <th>2</th>\n",
       "      <td>21/01/2019</td>\n",
       "      <td>14:00</td>\n",
       "      <td>321.0</td>\n",
       "      <td>337.0</td>\n",
       "      <td>10.81</td>\n",
       "      <td>23.8</td>\n",
       "      <td>7.3</td>\n",
       "      <td>78.0</td>\n",
       "      <td>1014.2</td>\n",
       "      <td>0.0</td>\n",
       "      <td>21.7</td>\n",
       "    </tr>\n",
       "    <tr>\n",
       "      <th>3</th>\n",
       "      <td>21/01/2019</td>\n",
       "      <td>15:00</td>\n",
       "      <td>337.0</td>\n",
       "      <td>331.0</td>\n",
       "      <td>7.61</td>\n",
       "      <td>20.5</td>\n",
       "      <td>10.5</td>\n",
       "      <td>68.0</td>\n",
       "      <td>1014.7</td>\n",
       "      <td>0.0</td>\n",
       "      <td>177.2</td>\n",
       "    </tr>\n",
       "    <tr>\n",
       "      <th>4</th>\n",
       "      <td>21/01/2019</td>\n",
       "      <td>16:00</td>\n",
       "      <td>333.0</td>\n",
       "      <td>349.0</td>\n",
       "      <td>9.50</td>\n",
       "      <td>21.2</td>\n",
       "      <td>15.0</td>\n",
       "      <td>54.0</td>\n",
       "      <td>1015.1</td>\n",
       "      <td>0.0</td>\n",
       "      <td>307.7</td>\n",
       "    </tr>\n",
       "  </tbody>\n",
       "</table>\n",
       "</div>"
      ],
      "text/plain": [
       "   DD/MM/AAAA  HH:MM   DIRS   DIRR   VELS  VELR  TEMP    HR      PB  PREC  \\\n",
       "0  21/01/2019  12:00   14.0  352.0   7.24  14.4   7.6  79.0  1013.3   0.0   \n",
       "1  21/01/2019  13:00  346.0  331.0  10.81  21.6   7.0  82.0  1013.5   0.0   \n",
       "2  21/01/2019  14:00  321.0  337.0  10.81  23.8   7.3  78.0  1014.2   0.0   \n",
       "3  21/01/2019  15:00  337.0  331.0   7.61  20.5  10.5  68.0  1014.7   0.0   \n",
       "4  21/01/2019  16:00  333.0  349.0   9.50  21.2  15.0  54.0  1015.1   0.0   \n",
       "\n",
       "   RADSOL  \n",
       "0    -1.0  \n",
       "1    -1.0  \n",
       "2    21.7  \n",
       "3   177.2  \n",
       "4   307.7  "
      ]
     },
     "execution_count": 11,
     "metadata": {},
     "output_type": "execute_result"
    }
   ],
   "source": [
    "df0.head()"
   ]
  },
  {
   "cell_type": "code",
   "execution_count": 12,
   "metadata": {},
   "outputs": [],
   "source": [
    "df = pd.DataFrame(df0)"
   ]
  },
  {
   "cell_type": "code",
   "execution_count": 13,
   "metadata": {},
   "outputs": [
    {
     "data": {
      "text/plain": [
       "DD/MM/AAAA     object\n",
       "HH:MM          object\n",
       "DIRS          float64\n",
       "DIRR          float64\n",
       "VELS          float64\n",
       "VELR          float64\n",
       "TEMP          float64\n",
       "HR            float64\n",
       "PB            float64\n",
       "PREC          float64\n",
       "RADSOL        float64\n",
       "dtype: object"
      ]
     },
     "execution_count": 13,
     "metadata": {},
     "output_type": "execute_result"
    }
   ],
   "source": [
    "df.dtypes"
   ]
  },
  {
   "cell_type": "code",
   "execution_count": 14,
   "metadata": {},
   "outputs": [],
   "source": [
    "df['FECHA'] = pd.to_datetime(df.apply(lambda x: x['DD/MM/AAAA'] + ' ' + x['HH:MM'], 1), dayfirst=True)\n",
    "df = df.drop(['DD/MM/AAAA', 'HH:MM'], 1)"
   ]
  },
  {
   "cell_type": "code",
   "execution_count": 15,
   "metadata": {},
   "outputs": [
    {
     "data": {
      "text/html": [
       "<div>\n",
       "<style scoped>\n",
       "    .dataframe tbody tr th:only-of-type {\n",
       "        vertical-align: middle;\n",
       "    }\n",
       "\n",
       "    .dataframe tbody tr th {\n",
       "        vertical-align: top;\n",
       "    }\n",
       "\n",
       "    .dataframe thead th {\n",
       "        text-align: right;\n",
       "    }\n",
       "</style>\n",
       "<table border=\"1\" class=\"dataframe\">\n",
       "  <thead>\n",
       "    <tr style=\"text-align: right;\">\n",
       "      <th></th>\n",
       "      <th>DIRS</th>\n",
       "      <th>DIRR</th>\n",
       "      <th>VELS</th>\n",
       "      <th>VELR</th>\n",
       "      <th>TEMP</th>\n",
       "      <th>HR</th>\n",
       "      <th>PB</th>\n",
       "      <th>PREC</th>\n",
       "      <th>RADSOL</th>\n",
       "      <th>FECHA</th>\n",
       "    </tr>\n",
       "  </thead>\n",
       "  <tbody>\n",
       "    <tr>\n",
       "      <th>0</th>\n",
       "      <td>14.0</td>\n",
       "      <td>352.0</td>\n",
       "      <td>7.24</td>\n",
       "      <td>14.4</td>\n",
       "      <td>7.6</td>\n",
       "      <td>79.0</td>\n",
       "      <td>1013.3</td>\n",
       "      <td>0.0</td>\n",
       "      <td>-1.0</td>\n",
       "      <td>2019-01-21 12:00:00</td>\n",
       "    </tr>\n",
       "    <tr>\n",
       "      <th>1</th>\n",
       "      <td>346.0</td>\n",
       "      <td>331.0</td>\n",
       "      <td>10.81</td>\n",
       "      <td>21.6</td>\n",
       "      <td>7.0</td>\n",
       "      <td>82.0</td>\n",
       "      <td>1013.5</td>\n",
       "      <td>0.0</td>\n",
       "      <td>-1.0</td>\n",
       "      <td>2019-01-21 13:00:00</td>\n",
       "    </tr>\n",
       "    <tr>\n",
       "      <th>2</th>\n",
       "      <td>321.0</td>\n",
       "      <td>337.0</td>\n",
       "      <td>10.81</td>\n",
       "      <td>23.8</td>\n",
       "      <td>7.3</td>\n",
       "      <td>78.0</td>\n",
       "      <td>1014.2</td>\n",
       "      <td>0.0</td>\n",
       "      <td>21.7</td>\n",
       "      <td>2019-01-21 14:00:00</td>\n",
       "    </tr>\n",
       "    <tr>\n",
       "      <th>3</th>\n",
       "      <td>337.0</td>\n",
       "      <td>331.0</td>\n",
       "      <td>7.61</td>\n",
       "      <td>20.5</td>\n",
       "      <td>10.5</td>\n",
       "      <td>68.0</td>\n",
       "      <td>1014.7</td>\n",
       "      <td>0.0</td>\n",
       "      <td>177.2</td>\n",
       "      <td>2019-01-21 15:00:00</td>\n",
       "    </tr>\n",
       "    <tr>\n",
       "      <th>4</th>\n",
       "      <td>333.0</td>\n",
       "      <td>349.0</td>\n",
       "      <td>9.50</td>\n",
       "      <td>21.2</td>\n",
       "      <td>15.0</td>\n",
       "      <td>54.0</td>\n",
       "      <td>1015.1</td>\n",
       "      <td>0.0</td>\n",
       "      <td>307.7</td>\n",
       "      <td>2019-01-21 16:00:00</td>\n",
       "    </tr>\n",
       "  </tbody>\n",
       "</table>\n",
       "</div>"
      ],
      "text/plain": [
       "    DIRS   DIRR   VELS  VELR  TEMP    HR      PB  PREC  RADSOL  \\\n",
       "0   14.0  352.0   7.24  14.4   7.6  79.0  1013.3   0.0    -1.0   \n",
       "1  346.0  331.0  10.81  21.6   7.0  82.0  1013.5   0.0    -1.0   \n",
       "2  321.0  337.0  10.81  23.8   7.3  78.0  1014.2   0.0    21.7   \n",
       "3  337.0  331.0   7.61  20.5  10.5  68.0  1014.7   0.0   177.2   \n",
       "4  333.0  349.0   9.50  21.2  15.0  54.0  1015.1   0.0   307.7   \n",
       "\n",
       "                FECHA  \n",
       "0 2019-01-21 12:00:00  \n",
       "1 2019-01-21 13:00:00  \n",
       "2 2019-01-21 14:00:00  \n",
       "3 2019-01-21 15:00:00  \n",
       "4 2019-01-21 16:00:00  "
      ]
     },
     "execution_count": 15,
     "metadata": {},
     "output_type": "execute_result"
    }
   ],
   "source": [
    "df.head()"
   ]
  },
  {
   "cell_type": "code",
   "execution_count": 16,
   "metadata": {},
   "outputs": [
    {
     "data": {
      "text/html": [
       "<div>\n",
       "<style scoped>\n",
       "    .dataframe tbody tr th:only-of-type {\n",
       "        vertical-align: middle;\n",
       "    }\n",
       "\n",
       "    .dataframe tbody tr th {\n",
       "        vertical-align: top;\n",
       "    }\n",
       "\n",
       "    .dataframe thead th {\n",
       "        text-align: right;\n",
       "    }\n",
       "</style>\n",
       "<table border=\"1\" class=\"dataframe\">\n",
       "  <thead>\n",
       "    <tr style=\"text-align: right;\">\n",
       "      <th></th>\n",
       "      <th>DIRS</th>\n",
       "      <th>DIRR</th>\n",
       "      <th>VELS</th>\n",
       "      <th>VELR</th>\n",
       "      <th>TEMP</th>\n",
       "      <th>HR</th>\n",
       "      <th>PB</th>\n",
       "      <th>PREC</th>\n",
       "      <th>RADSOL</th>\n",
       "    </tr>\n",
       "  </thead>\n",
       "  <tbody>\n",
       "    <tr>\n",
       "      <th>count</th>\n",
       "      <td>125.00000</td>\n",
       "      <td>125.00000</td>\n",
       "      <td>125.000000</td>\n",
       "      <td>124.000000</td>\n",
       "      <td>124.000000</td>\n",
       "      <td>123.000000</td>\n",
       "      <td>123.000000</td>\n",
       "      <td>123.0</td>\n",
       "      <td>123.000000</td>\n",
       "    </tr>\n",
       "    <tr>\n",
       "      <th>mean</th>\n",
       "      <td>248.20000</td>\n",
       "      <td>260.67680</td>\n",
       "      <td>17.444880</td>\n",
       "      <td>28.163710</td>\n",
       "      <td>16.071774</td>\n",
       "      <td>48.845528</td>\n",
       "      <td>1016.539837</td>\n",
       "      <td>0.0</td>\n",
       "      <td>177.134146</td>\n",
       "    </tr>\n",
       "    <tr>\n",
       "      <th>std</th>\n",
       "      <td>75.27573</td>\n",
       "      <td>98.36992</td>\n",
       "      <td>23.819549</td>\n",
       "      <td>11.434418</td>\n",
       "      <td>3.790200</td>\n",
       "      <td>16.473542</td>\n",
       "      <td>2.755047</td>\n",
       "      <td>0.0</td>\n",
       "      <td>257.860939</td>\n",
       "    </tr>\n",
       "    <tr>\n",
       "      <th>min</th>\n",
       "      <td>14.00000</td>\n",
       "      <td>11.00000</td>\n",
       "      <td>0.420000</td>\n",
       "      <td>7.200000</td>\n",
       "      <td>7.000000</td>\n",
       "      <td>17.000000</td>\n",
       "      <td>1010.800000</td>\n",
       "      <td>0.0</td>\n",
       "      <td>-1.000000</td>\n",
       "    </tr>\n",
       "    <tr>\n",
       "      <th>25%</th>\n",
       "      <td>252.00000</td>\n",
       "      <td>252.00000</td>\n",
       "      <td>9.150000</td>\n",
       "      <td>20.800000</td>\n",
       "      <td>13.900000</td>\n",
       "      <td>37.500000</td>\n",
       "      <td>1014.850000</td>\n",
       "      <td>0.0</td>\n",
       "      <td>-1.000000</td>\n",
       "    </tr>\n",
       "    <tr>\n",
       "      <th>50%</th>\n",
       "      <td>270.00000</td>\n",
       "      <td>273.00000</td>\n",
       "      <td>15.210000</td>\n",
       "      <td>27.000000</td>\n",
       "      <td>16.100000</td>\n",
       "      <td>48.000000</td>\n",
       "      <td>1016.100000</td>\n",
       "      <td>0.0</td>\n",
       "      <td>-1.000000</td>\n",
       "    </tr>\n",
       "    <tr>\n",
       "      <th>75%</th>\n",
       "      <td>283.00000</td>\n",
       "      <td>285.00000</td>\n",
       "      <td>20.470000</td>\n",
       "      <td>36.000000</td>\n",
       "      <td>18.675000</td>\n",
       "      <td>59.000000</td>\n",
       "      <td>1017.850000</td>\n",
       "      <td>0.0</td>\n",
       "      <td>312.500000</td>\n",
       "    </tr>\n",
       "    <tr>\n",
       "      <th>max</th>\n",
       "      <td>346.00000</td>\n",
       "      <td>1017.60000</td>\n",
       "      <td>266.700000</td>\n",
       "      <td>55.400000</td>\n",
       "      <td>22.600000</td>\n",
       "      <td>91.000000</td>\n",
       "      <td>1022.800000</td>\n",
       "      <td>0.0</td>\n",
       "      <td>771.300000</td>\n",
       "    </tr>\n",
       "  </tbody>\n",
       "</table>\n",
       "</div>"
      ],
      "text/plain": [
       "            DIRS        DIRR        VELS        VELR        TEMP          HR  \\\n",
       "count  125.00000   125.00000  125.000000  124.000000  124.000000  123.000000   \n",
       "mean   248.20000   260.67680   17.444880   28.163710   16.071774   48.845528   \n",
       "std     75.27573    98.36992   23.819549   11.434418    3.790200   16.473542   \n",
       "min     14.00000    11.00000    0.420000    7.200000    7.000000   17.000000   \n",
       "25%    252.00000   252.00000    9.150000   20.800000   13.900000   37.500000   \n",
       "50%    270.00000   273.00000   15.210000   27.000000   16.100000   48.000000   \n",
       "75%    283.00000   285.00000   20.470000   36.000000   18.675000   59.000000   \n",
       "max    346.00000  1017.60000  266.700000   55.400000   22.600000   91.000000   \n",
       "\n",
       "                PB   PREC      RADSOL  \n",
       "count   123.000000  123.0  123.000000  \n",
       "mean   1016.539837    0.0  177.134146  \n",
       "std       2.755047    0.0  257.860939  \n",
       "min    1010.800000    0.0   -1.000000  \n",
       "25%    1014.850000    0.0   -1.000000  \n",
       "50%    1016.100000    0.0   -1.000000  \n",
       "75%    1017.850000    0.0  312.500000  \n",
       "max    1022.800000    0.0  771.300000  "
      ]
     },
     "execution_count": 16,
     "metadata": {},
     "output_type": "execute_result"
    }
   ],
   "source": [
    "df.describe()"
   ]
  },
  {
   "cell_type": "code",
   "execution_count": 17,
   "metadata": {},
   "outputs": [
    {
     "data": {
      "text/html": [
       "<div>\n",
       "<style scoped>\n",
       "    .dataframe tbody tr th:only-of-type {\n",
       "        vertical-align: middle;\n",
       "    }\n",
       "\n",
       "    .dataframe tbody tr th {\n",
       "        vertical-align: top;\n",
       "    }\n",
       "\n",
       "    .dataframe thead th {\n",
       "        text-align: right;\n",
       "    }\n",
       "</style>\n",
       "<table border=\"1\" class=\"dataframe\">\n",
       "  <thead>\n",
       "    <tr style=\"text-align: right;\">\n",
       "      <th></th>\n",
       "      <th>DIRS</th>\n",
       "      <th>DIRR</th>\n",
       "      <th>VELS</th>\n",
       "      <th>VELR</th>\n",
       "      <th>TEMP</th>\n",
       "      <th>HR</th>\n",
       "      <th>PB</th>\n",
       "      <th>PREC</th>\n",
       "      <th>RADSOL</th>\n",
       "      <th>FECHA</th>\n",
       "    </tr>\n",
       "  </thead>\n",
       "  <tbody>\n",
       "  </tbody>\n",
       "</table>\n",
       "</div>"
      ],
      "text/plain": [
       "Empty DataFrame\n",
       "Columns: [DIRS, DIRR, VELS, VELR, TEMP, HR, PB, PREC, RADSOL, FECHA]\n",
       "Index: []"
      ]
     },
     "execution_count": 17,
     "metadata": {},
     "output_type": "execute_result"
    }
   ],
   "source": [
    "df_tmp = df[df.TEMP > 24] \n",
    "df_select = df_tmp[df_tmp.TEMP < 25]\n",
    "df_select"
   ]
  },
  {
   "cell_type": "code",
   "execution_count": 18,
   "metadata": {},
   "outputs": [
    {
     "data": {
      "text/plain": [
       "DIRS       248.200000\n",
       "DIRR       260.676800\n",
       "VELS        17.444880\n",
       "VELR        28.163710\n",
       "TEMP        16.071774\n",
       "HR          48.845528\n",
       "PB        1016.539837\n",
       "PREC         0.000000\n",
       "RADSOL     177.134146\n",
       "dtype: float64"
      ]
     },
     "execution_count": 18,
     "metadata": {},
     "output_type": "execute_result"
    }
   ],
   "source": [
    "df.mean()"
   ]
  },
  {
   "cell_type": "code",
   "execution_count": 19,
   "metadata": {},
   "outputs": [
    {
     "data": {
      "text/plain": [
       "16.071774193548386"
      ]
     },
     "execution_count": 19,
     "metadata": {},
     "output_type": "execute_result"
    }
   ],
   "source": [
    "df.TEMP.mean()"
   ]
  },
  {
   "cell_type": "code",
   "execution_count": 20,
   "metadata": {},
   "outputs": [
    {
     "data": {
      "image/png": "[encoded data removed]",
      "text/plain": [
       "<Figure size 432x288 with 1 Axes>"
      ]
     },
     "metadata": {
      "needs_background": "light"
     },
     "output_type": "display_data"
    }
   ],
   "source": [
    "plt.figure(); df.VELS.plot(); plt.legend(loc='best')\n",
    "plt.title(\"Variación de la Rapidez de los Vientos\")\n",
    "plt.ylabel(\"Rapidez (m/s)\")\n",
    "plt.grid(True)\n",
    "plt.show()"
   ]
  },
  {
   "cell_type": "code",
   "execution_count": 21,
   "metadata": {},
   "outputs": [
    {
     "data": {
      "text/plain": [
       "<Figure size 432x288 with 0 Axes>"
      ]
     },
     "metadata": {},
     "output_type": "display_data"
    },
    {
     "data": {
      "image/png": "[encoded data removed]",
      "text/plain": [
       "<Figure size 432x288 with 1 Axes>"
      ]
     },
     "metadata": {
      "needs_background": "light"
     },
     "output_type": "display_data"
    }
   ],
   "source": [
    "df1 = df[['TEMP','HR']]\n",
    "plt.figure(); df1.plot(); plt.legend(loc='best')\n",
    "plt.title(\"Variación de la Temperatura y la Humedad Relativa\")\n",
    "plt.ylabel(\"Temp ºC /(%) HR\")\n",
    "plt.grid(True)\n",
    "plt.show()"
   ]
  },
  {
   "cell_type": "code",
   "execution_count": 22,
   "metadata": {},
   "outputs": [
    {
     "data": {
      "image/png": "[encoded data removed]",
      "text/plain": [
       "<Figure size 432x288 with 1 Axes>"
      ]
     },
     "metadata": {
      "needs_background": "light"
     },
     "output_type": "display_data"
    }
   ],
   "source": [
    "plt.plot_date(x=df.FECHA, y=df.TEMP, fmt=\"b-\")\n",
    "plt.title(\"Variación de la Temperatura\")\n",
    "plt.ylabel(\"Temp ºC\")\n",
    "plt.grid(True)\n",
    "plt.show()"
   ]
  },
  {
   "cell_type": "code",
   "execution_count": 23,
   "metadata": {},
   "outputs": [
    {
     "data": {
      "text/plain": [
       "<Figure size 432x288 with 0 Axes>"
      ]
     },
     "metadata": {},
     "output_type": "display_data"
    },
    {
     "data": {
      "image/png": "[encoded data removed]",
      "text/plain": [
       "<Figure size 432x288 with 1 Axes>"
      ]
     },
     "metadata": {
      "needs_background": "light"
     },
     "output_type": "display_data"
    }
   ],
   "source": [
    "df1 = df[['VELS','VELR']]\n",
    "plt.figure(); df1.plot(); plt.legend(loc='best')\n",
    "plt.title(\"Variación de la Velocidad del Viento y Velocidad de las Rafagas\")\n",
    "plt.ylabel(\"Vel. viento m/s,Vel rafaga\")\n",
    "plt.grid(True)\n",
    "plt.show()"
   ]
  },
  {
   "cell_type": "code",
   "execution_count": 24,
   "metadata": {},
   "outputs": [
    {
     "data": {
      "text/plain": [
       "<Figure size 432x288 with 0 Axes>"
      ]
     },
     "metadata": {},
     "output_type": "display_data"
    },
    {
     "data": {
      "image/png": "[encoded data removed]",
      "text/plain": [
       "<Figure size 432x288 with 1 Axes>"
      ]
     },
     "metadata": {
      "needs_background": "light"
     },
     "output_type": "display_data"
    }
   ],
   "source": [
    "df1 = df[['DIRS','DIRR']]\n",
    "plt.figure(); df1.plot(); plt.legend(loc='best')\n",
    "plt.title(\"Direccion de los vientos\")\n",
    "plt.ylabel(\"Dir. viento, Dir. rafaga\")\n",
    "plt.grid(True)\n",
    "plt.show()"
   ]
  },
  {
   "cell_type": "code",
   "execution_count": 25,
   "metadata": {},
   "outputs": [
    {
     "data": {
      "image/png": "[encoded data removed]",
      "text/plain": [
       "<Figure size 432x288 with 1 Axes>"
      ]
     },
     "metadata": {
      "needs_background": "light"
     },
     "output_type": "display_data"
    }
   ],
   "source": [
    "plt.plot_date(x=df.FECHA, y=df.RADSOL, fmt=\"b-\")\n",
    "plt.title(\"Radiacion solar\")\n",
    "plt.ylabel(\"Rad. Solar\")\n",
    "plt.grid(True)\n",
    "plt.show()"
   ]
  },
  {
   "cell_type": "code",
   "execution_count": 26,
   "metadata": {},
   "outputs": [
    {
     "data": {
      "text/html": [
       "<div>\n",
       "<style scoped>\n",
       "    .dataframe tbody tr th:only-of-type {\n",
       "        vertical-align: middle;\n",
       "    }\n",
       "\n",
       "    .dataframe tbody tr th {\n",
       "        vertical-align: top;\n",
       "    }\n",
       "\n",
       "    .dataframe thead th {\n",
       "        text-align: right;\n",
       "    }\n",
       "</style>\n",
       "<table border=\"1\" class=\"dataframe\">\n",
       "  <thead>\n",
       "    <tr style=\"text-align: right;\">\n",
       "      <th></th>\n",
       "      <th>DIRS</th>\n",
       "      <th>DIRR</th>\n",
       "      <th>VELS</th>\n",
       "      <th>VELR</th>\n",
       "      <th>TEMP</th>\n",
       "      <th>HR</th>\n",
       "      <th>PB</th>\n",
       "      <th>PREC</th>\n",
       "      <th>RADSOL</th>\n",
       "    </tr>\n",
       "  </thead>\n",
       "  <tbody>\n",
       "    <tr>\n",
       "      <th>count</th>\n",
       "      <td>125.00000</td>\n",
       "      <td>125.00000</td>\n",
       "      <td>125.000000</td>\n",
       "      <td>124.000000</td>\n",
       "      <td>124.000000</td>\n",
       "      <td>123.000000</td>\n",
       "      <td>123.000000</td>\n",
       "      <td>123.0</td>\n",
       "      <td>123.000000</td>\n",
       "    </tr>\n",
       "    <tr>\n",
       "      <th>mean</th>\n",
       "      <td>248.20000</td>\n",
       "      <td>260.67680</td>\n",
       "      <td>17.444880</td>\n",
       "      <td>28.163710</td>\n",
       "      <td>16.071774</td>\n",
       "      <td>48.845528</td>\n",
       "      <td>1016.539837</td>\n",
       "      <td>0.0</td>\n",
       "      <td>177.134146</td>\n",
       "    </tr>\n",
       "    <tr>\n",
       "      <th>std</th>\n",
       "      <td>75.27573</td>\n",
       "      <td>98.36992</td>\n",
       "      <td>23.819549</td>\n",
       "      <td>11.434418</td>\n",
       "      <td>3.790200</td>\n",
       "      <td>16.473542</td>\n",
       "      <td>2.755047</td>\n",
       "      <td>0.0</td>\n",
       "      <td>257.860939</td>\n",
       "    </tr>\n",
       "    <tr>\n",
       "      <th>min</th>\n",
       "      <td>14.00000</td>\n",
       "      <td>11.00000</td>\n",
       "      <td>0.420000</td>\n",
       "      <td>7.200000</td>\n",
       "      <td>7.000000</td>\n",
       "      <td>17.000000</td>\n",
       "      <td>1010.800000</td>\n",
       "      <td>0.0</td>\n",
       "      <td>-1.000000</td>\n",
       "    </tr>\n",
       "    <tr>\n",
       "      <th>25%</th>\n",
       "      <td>252.00000</td>\n",
       "      <td>252.00000</td>\n",
       "      <td>9.150000</td>\n",
       "      <td>20.800000</td>\n",
       "      <td>13.900000</td>\n",
       "      <td>37.500000</td>\n",
       "      <td>1014.850000</td>\n",
       "      <td>0.0</td>\n",
       "      <td>-1.000000</td>\n",
       "    </tr>\n",
       "    <tr>\n",
       "      <th>50%</th>\n",
       "      <td>270.00000</td>\n",
       "      <td>273.00000</td>\n",
       "      <td>15.210000</td>\n",
       "      <td>27.000000</td>\n",
       "      <td>16.100000</td>\n",
       "      <td>48.000000</td>\n",
       "      <td>1016.100000</td>\n",
       "      <td>0.0</td>\n",
       "      <td>-1.000000</td>\n",
       "    </tr>\n",
       "    <tr>\n",
       "      <th>75%</th>\n",
       "      <td>283.00000</td>\n",
       "      <td>285.00000</td>\n",
       "      <td>20.470000</td>\n",
       "      <td>36.000000</td>\n",
       "      <td>18.675000</td>\n",
       "      <td>59.000000</td>\n",
       "      <td>1017.850000</td>\n",
       "      <td>0.0</td>\n",
       "      <td>312.500000</td>\n",
       "    </tr>\n",
       "    <tr>\n",
       "      <th>max</th>\n",
       "      <td>346.00000</td>\n",
       "      <td>1017.60000</td>\n",
       "      <td>266.700000</td>\n",
       "      <td>55.400000</td>\n",
       "      <td>22.600000</td>\n",
       "      <td>91.000000</td>\n",
       "      <td>1022.800000</td>\n",
       "      <td>0.0</td>\n",
       "      <td>771.300000</td>\n",
       "    </tr>\n",
       "  </tbody>\n",
       "</table>\n",
       "</div>"
      ],
      "text/plain": [
       "            DIRS        DIRR        VELS        VELR        TEMP          HR  \\\n",
       "count  125.00000   125.00000  125.000000  124.000000  124.000000  123.000000   \n",
       "mean   248.20000   260.67680   17.444880   28.163710   16.071774   48.845528   \n",
       "std     75.27573    98.36992   23.819549   11.434418    3.790200   16.473542   \n",
       "min     14.00000    11.00000    0.420000    7.200000    7.000000   17.000000   \n",
       "25%    252.00000   252.00000    9.150000   20.800000   13.900000   37.500000   \n",
       "50%    270.00000   273.00000   15.210000   27.000000   16.100000   48.000000   \n",
       "75%    283.00000   285.00000   20.470000   36.000000   18.675000   59.000000   \n",
       "max    346.00000  1017.60000  266.700000   55.400000   22.600000   91.000000   \n",
       "\n",
       "                PB   PREC      RADSOL  \n",
       "count   123.000000  123.0  123.000000  \n",
       "mean   1016.539837    0.0  177.134146  \n",
       "std       2.755047    0.0  257.860939  \n",
       "min    1010.800000    0.0   -1.000000  \n",
       "25%    1014.850000    0.0   -1.000000  \n",
       "50%    1016.100000    0.0   -1.000000  \n",
       "75%    1017.850000    0.0  312.500000  \n",
       "max    1022.800000    0.0  771.300000  "
      ]
     },
     "execution_count": 26,
     "metadata": {},
     "output_type": "execute_result"
    }
   ],
   "source": [
    "df.describe()"
   ]
  },
  {
   "cell_type": "code",
   "execution_count": null,
   "metadata": {},
   "outputs": [],
   "source": []
  }
 ],
 "metadata": {
  "kernelspec": {
   "display_name": "Python 3",
   "language": "python",
   "name": "python3"
  },
  "language_info": {
   "codemirror_mode": {
    "name": "ipython",
    "version": 3
   },
   "file_extension": ".py",
   "mimetype": "text/x-python",
   "name": "python",
   "nbconvert_exporter": "python",
   "pygments_lexer": "ipython3",
   "version": "3.7.1"
  }
 },
 "nbformat": 4,
 "nbformat_minor": 2
}
