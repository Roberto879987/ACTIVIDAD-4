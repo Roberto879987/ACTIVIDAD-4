{
 "cells": [
  {
   "cell_type": "code",
   "execution_count": 5,
   "metadata": {},
   "outputs": [],
   "source": [
    "import pandas as pd\n",
    "import numpy as np\n",
    "import matplotlib.pyplot as plt\n",
    "import seaborn as sns\n",
    "import calendar"
   ]
  },
  {
   "cell_type": "code",
   "execution_count": 7,
   "metadata": {},
   "outputs": [],
   "source": [
    "sentinels = {'PRECIP': ['Nulo'], 'EVAP': ['Nulo'], 'TMAX': ['Nulo'],'TMIN': ['Nulo']}"
   ]
  },
  {
   "cell_type": "code",
   "execution_count": 9,
   "metadata": {},
   "outputs": [],
   "source": [
    "datos_df = pd.read_csv(\"cananea4\",skiprows=17, sep='\\s+',na_values=sentinels)"
   ]
  },
  {
   "cell_type": "code",
   "execution_count": 10,
   "metadata": {},
   "outputs": [],
   "source": [
    "df = pd.DataFrame(datos_df)"
   ]
  },
  {
   "cell_type": "code",
   "execution_count": 11,
   "metadata": {},
   "outputs": [],
   "source": [
    "df['FECHAN'] = pd.to_datetime(df.apply(lambda x: x['FECHA'], 1), dayfirst=True)\n",
    "df = df.drop(['FECHA'], 1)"
   ]
  },
  {
   "cell_type": "code",
   "execution_count": 12,
   "metadata": {},
   "outputs": [
    {
     "data": {
      "text/plain": [
       "PRECIP           float64\n",
       "EVAP             float64\n",
       "TMAX             float64\n",
       "TMIN             float64\n",
       "FECHAN    datetime64[ns]\n",
       "dtype: object"
      ]
     },
     "execution_count": 12,
     "metadata": {},
     "output_type": "execute_result"
    }
   ],
   "source": [
    "df.dtypes"
   ]
  },
  {
   "cell_type": "code",
   "execution_count": 14,
   "metadata": {},
   "outputs": [],
   "source": [
    "df['MES'] = df['FECHAN'].dt.month\n",
    "df['AÑO'] = df['FECHAN'].dt.year"
   ]
  },
  {
   "cell_type": "code",
   "execution_count": 15,
   "metadata": {},
   "outputs": [
    {
     "data": {
      "text/html": [
       "<div>\n",
       "<style scoped>\n",
       "    .dataframe tbody tr th:only-of-type {\n",
       "        vertical-align: middle;\n",
       "    }\n",
       "\n",
       "    .dataframe tbody tr th {\n",
       "        vertical-align: top;\n",
       "    }\n",
       "\n",
       "    .dataframe thead th {\n",
       "        text-align: right;\n",
       "    }\n",
       "</style>\n",
       "<table border=\"1\" class=\"dataframe\">\n",
       "  <thead>\n",
       "    <tr style=\"text-align: right;\">\n",
       "      <th></th>\n",
       "      <th>PRECIP</th>\n",
       "      <th>EVAP</th>\n",
       "      <th>TMAX</th>\n",
       "      <th>TMIN</th>\n",
       "      <th>MES</th>\n",
       "      <th>AÑO</th>\n",
       "    </tr>\n",
       "  </thead>\n",
       "  <tbody>\n",
       "    <tr>\n",
       "      <th>count</th>\n",
       "      <td>7007.000000</td>\n",
       "      <td>7007.000000</td>\n",
       "      <td>7007.000000</td>\n",
       "      <td>7007.000000</td>\n",
       "      <td>7007.000000</td>\n",
       "      <td>7007.000000</td>\n",
       "    </tr>\n",
       "    <tr>\n",
       "      <th>mean</th>\n",
       "      <td>1.467946</td>\n",
       "      <td>6.002312</td>\n",
       "      <td>23.088497</td>\n",
       "      <td>9.856686</td>\n",
       "      <td>6.530898</td>\n",
       "      <td>1970.619809</td>\n",
       "    </tr>\n",
       "    <tr>\n",
       "      <th>std</th>\n",
       "      <td>5.679638</td>\n",
       "      <td>3.279324</td>\n",
       "      <td>7.445648</td>\n",
       "      <td>6.432818</td>\n",
       "      <td>3.406453</td>\n",
       "      <td>5.807050</td>\n",
       "    </tr>\n",
       "    <tr>\n",
       "      <th>min</th>\n",
       "      <td>0.000000</td>\n",
       "      <td>0.100000</td>\n",
       "      <td>1.200000</td>\n",
       "      <td>-10.000000</td>\n",
       "      <td>1.000000</td>\n",
       "      <td>1961.000000</td>\n",
       "    </tr>\n",
       "    <tr>\n",
       "      <th>25%</th>\n",
       "      <td>0.000000</td>\n",
       "      <td>3.500000</td>\n",
       "      <td>17.400000</td>\n",
       "      <td>5.000000</td>\n",
       "      <td>4.000000</td>\n",
       "      <td>1966.000000</td>\n",
       "    </tr>\n",
       "    <tr>\n",
       "      <th>50%</th>\n",
       "      <td>0.000000</td>\n",
       "      <td>5.500000</td>\n",
       "      <td>24.000000</td>\n",
       "      <td>10.000000</td>\n",
       "      <td>7.000000</td>\n",
       "      <td>1971.000000</td>\n",
       "    </tr>\n",
       "    <tr>\n",
       "      <th>75%</th>\n",
       "      <td>0.000000</td>\n",
       "      <td>8.100000</td>\n",
       "      <td>29.000000</td>\n",
       "      <td>15.400000</td>\n",
       "      <td>9.000000</td>\n",
       "      <td>1975.000000</td>\n",
       "    </tr>\n",
       "    <tr>\n",
       "      <th>max</th>\n",
       "      <td>88.000000</td>\n",
       "      <td>17.700000</td>\n",
       "      <td>45.000000</td>\n",
       "      <td>26.000000</td>\n",
       "      <td>12.000000</td>\n",
       "      <td>1984.000000</td>\n",
       "    </tr>\n",
       "  </tbody>\n",
       "</table>\n",
       "</div>"
      ],
      "text/plain": [
       "            PRECIP         EVAP         TMAX         TMIN          MES  \\\n",
       "count  7007.000000  7007.000000  7007.000000  7007.000000  7007.000000   \n",
       "mean      1.467946     6.002312    23.088497     9.856686     6.530898   \n",
       "std       5.679638     3.279324     7.445648     6.432818     3.406453   \n",
       "min       0.000000     0.100000     1.200000   -10.000000     1.000000   \n",
       "25%       0.000000     3.500000    17.400000     5.000000     4.000000   \n",
       "50%       0.000000     5.500000    24.000000    10.000000     7.000000   \n",
       "75%       0.000000     8.100000    29.000000    15.400000     9.000000   \n",
       "max      88.000000    17.700000    45.000000    26.000000    12.000000   \n",
       "\n",
       "               AÑO  \n",
       "count  7007.000000  \n",
       "mean   1970.619809  \n",
       "std       5.807050  \n",
       "min    1961.000000  \n",
       "25%    1966.000000  \n",
       "50%    1971.000000  \n",
       "75%    1975.000000  \n",
       "max    1984.000000  "
      ]
     },
     "execution_count": 15,
     "metadata": {},
     "output_type": "execute_result"
    }
   ],
   "source": [
    "df.describe()"
   ]
  },
  {
   "cell_type": "code",
   "execution_count": 16,
   "metadata": {},
   "outputs": [
    {
     "data": {
      "text/html": [
       "<div>\n",
       "<style scoped>\n",
       "    .dataframe tbody tr th:only-of-type {\n",
       "        vertical-align: middle;\n",
       "    }\n",
       "\n",
       "    .dataframe tbody tr th {\n",
       "        vertical-align: top;\n",
       "    }\n",
       "\n",
       "    .dataframe thead th {\n",
       "        text-align: right;\n",
       "    }\n",
       "</style>\n",
       "<table border=\"1\" class=\"dataframe\">\n",
       "  <thead>\n",
       "    <tr style=\"text-align: right;\">\n",
       "      <th></th>\n",
       "      <th>PRECIP</th>\n",
       "      <th>EVAP</th>\n",
       "      <th>TMAX</th>\n",
       "      <th>TMIN</th>\n",
       "      <th>FECHAN</th>\n",
       "      <th>MES</th>\n",
       "      <th>AÑO</th>\n",
       "    </tr>\n",
       "  </thead>\n",
       "  <tbody>\n",
       "    <tr>\n",
       "      <th>0</th>\n",
       "      <td>0.0</td>\n",
       "      <td>11.8</td>\n",
       "      <td>24.0</td>\n",
       "      <td>8.0</td>\n",
       "      <td>1961-04-12</td>\n",
       "      <td>4</td>\n",
       "      <td>1961</td>\n",
       "    </tr>\n",
       "    <tr>\n",
       "      <th>1</th>\n",
       "      <td>0.0</td>\n",
       "      <td>11.8</td>\n",
       "      <td>21.0</td>\n",
       "      <td>8.0</td>\n",
       "      <td>1961-04-13</td>\n",
       "      <td>4</td>\n",
       "      <td>1961</td>\n",
       "    </tr>\n",
       "    <tr>\n",
       "      <th>2</th>\n",
       "      <td>0.0</td>\n",
       "      <td>10.1</td>\n",
       "      <td>23.0</td>\n",
       "      <td>13.0</td>\n",
       "      <td>1961-04-14</td>\n",
       "      <td>4</td>\n",
       "      <td>1961</td>\n",
       "    </tr>\n",
       "    <tr>\n",
       "      <th>3</th>\n",
       "      <td>0.0</td>\n",
       "      <td>7.4</td>\n",
       "      <td>24.0</td>\n",
       "      <td>14.0</td>\n",
       "      <td>1961-04-15</td>\n",
       "      <td>4</td>\n",
       "      <td>1961</td>\n",
       "    </tr>\n",
       "    <tr>\n",
       "      <th>4</th>\n",
       "      <td>0.0</td>\n",
       "      <td>9.9</td>\n",
       "      <td>27.0</td>\n",
       "      <td>12.0</td>\n",
       "      <td>1961-04-16</td>\n",
       "      <td>4</td>\n",
       "      <td>1961</td>\n",
       "    </tr>\n",
       "  </tbody>\n",
       "</table>\n",
       "</div>"
      ],
      "text/plain": [
       "   PRECIP  EVAP  TMAX  TMIN     FECHAN  MES   AÑO\n",
       "0     0.0  11.8  24.0   8.0 1961-04-12    4  1961\n",
       "1     0.0  11.8  21.0   8.0 1961-04-13    4  1961\n",
       "2     0.0  10.1  23.0  13.0 1961-04-14    4  1961\n",
       "3     0.0   7.4  24.0  14.0 1961-04-15    4  1961\n",
       "4     0.0   9.9  27.0  12.0 1961-04-16    4  1961"
      ]
     },
     "execution_count": 16,
     "metadata": {},
     "output_type": "execute_result"
    }
   ],
   "source": [
    "df.head()"
   ]
  },
  {
   "cell_type": "code",
   "execution_count": 17,
   "metadata": {},
   "outputs": [],
   "source": [
    "NumY = len(df['AÑO'].unique())"
   ]
  },
  {
   "cell_type": "code",
   "execution_count": 18,
   "metadata": {},
   "outputs": [],
   "source": [
    "init = 1\n",
    "MESES = [init + i for i in range(0, 12)]\n",
    "PRECIPMESPROM = [df[df.MES==(init + i)].PRECIP.sum()/NumY for i in range (0,12)]\n",
    "TMAXMESPROM = [df[df.MES==(init + i)].TMAX.mean() for i in range (0,12)]\n",
    "TMINMESPROM = [df[df.MES==(init + i)].TMIN.mean() for i in range (0,12)]"
   ]
  },
  {
   "cell_type": "code",
   "execution_count": 19,
   "metadata": {},
   "outputs": [
    {
     "data": {
      "text/html": [
       "<div>\n",
       "<style scoped>\n",
       "    .dataframe tbody tr th:only-of-type {\n",
       "        vertical-align: middle;\n",
       "    }\n",
       "\n",
       "    .dataframe tbody tr th {\n",
       "        vertical-align: top;\n",
       "    }\n",
       "\n",
       "    .dataframe thead th {\n",
       "        text-align: right;\n",
       "    }\n",
       "</style>\n",
       "<table border=\"1\" class=\"dataframe\">\n",
       "  <thead>\n",
       "    <tr style=\"text-align: right;\">\n",
       "      <th></th>\n",
       "      <th>MES</th>\n",
       "      <th>PRECIPPROM</th>\n",
       "      <th>TMAXPROM</th>\n",
       "      <th>TMINPROM</th>\n",
       "    </tr>\n",
       "  </thead>\n",
       "  <tbody>\n",
       "    <tr>\n",
       "      <th>0</th>\n",
       "      <td>1</td>\n",
       "      <td>31.154167</td>\n",
       "      <td>14.623927</td>\n",
       "      <td>2.509901</td>\n",
       "    </tr>\n",
       "    <tr>\n",
       "      <th>1</th>\n",
       "      <td>2</td>\n",
       "      <td>19.216667</td>\n",
       "      <td>15.808465</td>\n",
       "      <td>3.384646</td>\n",
       "    </tr>\n",
       "    <tr>\n",
       "      <th>2</th>\n",
       "      <td>3</td>\n",
       "      <td>18.062500</td>\n",
       "      <td>17.691938</td>\n",
       "      <td>4.575472</td>\n",
       "    </tr>\n",
       "    <tr>\n",
       "      <th>3</th>\n",
       "      <td>4</td>\n",
       "      <td>4.129167</td>\n",
       "      <td>22.259964</td>\n",
       "      <td>7.912319</td>\n",
       "    </tr>\n",
       "    <tr>\n",
       "      <th>4</th>\n",
       "      <td>5</td>\n",
       "      <td>5.504167</td>\n",
       "      <td>26.408703</td>\n",
       "      <td>11.730887</td>\n",
       "    </tr>\n",
       "    <tr>\n",
       "      <th>5</th>\n",
       "      <td>6</td>\n",
       "      <td>13.337500</td>\n",
       "      <td>31.719398</td>\n",
       "      <td>15.871070</td>\n",
       "    </tr>\n",
       "    <tr>\n",
       "      <th>6</th>\n",
       "      <td>7</td>\n",
       "      <td>118.691667</td>\n",
       "      <td>30.682876</td>\n",
       "      <td>16.963166</td>\n",
       "    </tr>\n",
       "    <tr>\n",
       "      <th>7</th>\n",
       "      <td>8</td>\n",
       "      <td>91.333333</td>\n",
       "      <td>29.526603</td>\n",
       "      <td>17.063782</td>\n",
       "    </tr>\n",
       "    <tr>\n",
       "      <th>8</th>\n",
       "      <td>9</td>\n",
       "      <td>49.687500</td>\n",
       "      <td>27.821167</td>\n",
       "      <td>14.941000</td>\n",
       "    </tr>\n",
       "    <tr>\n",
       "      <th>9</th>\n",
       "      <td>10</td>\n",
       "      <td>31.216667</td>\n",
       "      <td>24.404396</td>\n",
       "      <td>11.208948</td>\n",
       "    </tr>\n",
       "    <tr>\n",
       "      <th>10</th>\n",
       "      <td>11</td>\n",
       "      <td>15.825000</td>\n",
       "      <td>18.489964</td>\n",
       "      <td>6.385842</td>\n",
       "    </tr>\n",
       "    <tr>\n",
       "      <th>11</th>\n",
       "      <td>12</td>\n",
       "      <td>30.420833</td>\n",
       "      <td>14.682276</td>\n",
       "      <td>3.002052</td>\n",
       "    </tr>\n",
       "  </tbody>\n",
       "</table>\n",
       "</div>"
      ],
      "text/plain": [
       "    MES  PRECIPPROM   TMAXPROM   TMINPROM\n",
       "0     1   31.154167  14.623927   2.509901\n",
       "1     2   19.216667  15.808465   3.384646\n",
       "2     3   18.062500  17.691938   4.575472\n",
       "3     4    4.129167  22.259964   7.912319\n",
       "4     5    5.504167  26.408703  11.730887\n",
       "5     6   13.337500  31.719398  15.871070\n",
       "6     7  118.691667  30.682876  16.963166\n",
       "7     8   91.333333  29.526603  17.063782\n",
       "8     9   49.687500  27.821167  14.941000\n",
       "9    10   31.216667  24.404396  11.208948\n",
       "10   11   15.825000  18.489964   6.385842\n",
       "11   12   30.420833  14.682276   3.002052"
      ]
     },
     "execution_count": 19,
     "metadata": {},
     "output_type": "execute_result"
    }
   ],
   "source": [
    "datos_mensual = {'MES': MESES, 'PRECIPPROM': PRECIPMESPROM, 'TMAXPROM': TMAXMESPROM, 'TMINPROM': TMINMESPROM}\n",
    "df_mensual = pd.DataFrame(data=datos_mensual)\n",
    "df_mensual"
   ]
  },
  {
   "cell_type": "code",
   "execution_count": 22,
   "metadata": {},
   "outputs": [],
   "source": [
    "init = 1961\n",
    "AÑOS = [init + i for i in range(0, 23)]\n",
    "PRECIPANUALPROM = [df[df.AÑO==(init + i)].PRECIP.mean() for i in range (0,23)]\n",
    "TMAXANUALPROM = [df[df.AÑO==(init + i)].TMAX.mean() for i in range (0,23)]\n",
    "TMINANUALPROM = [df[df.AÑO==(init + i)].TMIN.mean() for i in range (0,23)]"
   ]
  },
  {
   "cell_type": "code",
   "execution_count": 23,
   "metadata": {},
   "outputs": [
    {
     "data": {
      "text/html": [
       "<div>\n",
       "<style scoped>\n",
       "    .dataframe tbody tr th:only-of-type {\n",
       "        vertical-align: middle;\n",
       "    }\n",
       "\n",
       "    .dataframe tbody tr th {\n",
       "        vertical-align: top;\n",
       "    }\n",
       "\n",
       "    .dataframe thead th {\n",
       "        text-align: right;\n",
       "    }\n",
       "</style>\n",
       "<table border=\"1\" class=\"dataframe\">\n",
       "  <thead>\n",
       "    <tr style=\"text-align: right;\">\n",
       "      <th></th>\n",
       "      <th>AÑO</th>\n",
       "      <th>PRECIPPROM</th>\n",
       "      <th>TMAXPROM</th>\n",
       "      <th>TMINPROM</th>\n",
       "    </tr>\n",
       "  </thead>\n",
       "  <tbody>\n",
       "    <tr>\n",
       "      <th>0</th>\n",
       "      <td>1961</td>\n",
       "      <td>2.335458</td>\n",
       "      <td>25.277291</td>\n",
       "      <td>12.974900</td>\n",
       "    </tr>\n",
       "    <tr>\n",
       "      <th>1</th>\n",
       "      <td>1962</td>\n",
       "      <td>1.171148</td>\n",
       "      <td>23.733894</td>\n",
       "      <td>11.363866</td>\n",
       "    </tr>\n",
       "    <tr>\n",
       "      <th>2</th>\n",
       "      <td>1963</td>\n",
       "      <td>1.255342</td>\n",
       "      <td>23.531781</td>\n",
       "      <td>10.848767</td>\n",
       "    </tr>\n",
       "    <tr>\n",
       "      <th>3</th>\n",
       "      <td>1964</td>\n",
       "      <td>1.389891</td>\n",
       "      <td>22.084973</td>\n",
       "      <td>9.214481</td>\n",
       "    </tr>\n",
       "    <tr>\n",
       "      <th>4</th>\n",
       "      <td>1965</td>\n",
       "      <td>1.650552</td>\n",
       "      <td>23.147514</td>\n",
       "      <td>9.703867</td>\n",
       "    </tr>\n",
       "    <tr>\n",
       "      <th>5</th>\n",
       "      <td>1966</td>\n",
       "      <td>1.520571</td>\n",
       "      <td>23.155714</td>\n",
       "      <td>10.186571</td>\n",
       "    </tr>\n",
       "    <tr>\n",
       "      <th>6</th>\n",
       "      <td>1967</td>\n",
       "      <td>1.747383</td>\n",
       "      <td>23.329752</td>\n",
       "      <td>9.905234</td>\n",
       "    </tr>\n",
       "    <tr>\n",
       "      <th>7</th>\n",
       "      <td>1968</td>\n",
       "      <td>1.580548</td>\n",
       "      <td>22.496438</td>\n",
       "      <td>9.609041</td>\n",
       "    </tr>\n",
       "    <tr>\n",
       "      <th>8</th>\n",
       "      <td>1969</td>\n",
       "      <td>0.808403</td>\n",
       "      <td>23.455462</td>\n",
       "      <td>9.907563</td>\n",
       "    </tr>\n",
       "    <tr>\n",
       "      <th>9</th>\n",
       "      <td>1970</td>\n",
       "      <td>1.035143</td>\n",
       "      <td>23.400000</td>\n",
       "      <td>9.932857</td>\n",
       "    </tr>\n",
       "    <tr>\n",
       "      <th>10</th>\n",
       "      <td>1971</td>\n",
       "      <td>1.781644</td>\n",
       "      <td>22.589589</td>\n",
       "      <td>8.864932</td>\n",
       "    </tr>\n",
       "    <tr>\n",
       "      <th>11</th>\n",
       "      <td>1972</td>\n",
       "      <td>1.136339</td>\n",
       "      <td>23.356011</td>\n",
       "      <td>10.017760</td>\n",
       "    </tr>\n",
       "    <tr>\n",
       "      <th>12</th>\n",
       "      <td>1973</td>\n",
       "      <td>1.271468</td>\n",
       "      <td>22.249030</td>\n",
       "      <td>9.392244</td>\n",
       "    </tr>\n",
       "    <tr>\n",
       "      <th>13</th>\n",
       "      <td>1974</td>\n",
       "      <td>1.249315</td>\n",
       "      <td>22.622466</td>\n",
       "      <td>9.483014</td>\n",
       "    </tr>\n",
       "    <tr>\n",
       "      <th>14</th>\n",
       "      <td>1975</td>\n",
       "      <td>1.215470</td>\n",
       "      <td>22.295856</td>\n",
       "      <td>8.836188</td>\n",
       "    </tr>\n",
       "    <tr>\n",
       "      <th>15</th>\n",
       "      <td>1976</td>\n",
       "      <td>1.346995</td>\n",
       "      <td>22.670492</td>\n",
       "      <td>9.044536</td>\n",
       "    </tr>\n",
       "    <tr>\n",
       "      <th>16</th>\n",
       "      <td>1977</td>\n",
       "      <td>1.718904</td>\n",
       "      <td>21.222192</td>\n",
       "      <td>9.758356</td>\n",
       "    </tr>\n",
       "    <tr>\n",
       "      <th>17</th>\n",
       "      <td>1978</td>\n",
       "      <td>2.459889</td>\n",
       "      <td>22.356825</td>\n",
       "      <td>9.887187</td>\n",
       "    </tr>\n",
       "    <tr>\n",
       "      <th>18</th>\n",
       "      <td>1979</td>\n",
       "      <td>1.517925</td>\n",
       "      <td>21.823113</td>\n",
       "      <td>8.370283</td>\n",
       "    </tr>\n",
       "    <tr>\n",
       "      <th>19</th>\n",
       "      <td>1980</td>\n",
       "      <td>1.192208</td>\n",
       "      <td>25.441558</td>\n",
       "      <td>13.103896</td>\n",
       "    </tr>\n",
       "    <tr>\n",
       "      <th>20</th>\n",
       "      <td>1981</td>\n",
       "      <td>1.037086</td>\n",
       "      <td>33.424503</td>\n",
       "      <td>12.433775</td>\n",
       "    </tr>\n",
       "    <tr>\n",
       "      <th>21</th>\n",
       "      <td>1982</td>\n",
       "      <td>1.835106</td>\n",
       "      <td>27.127660</td>\n",
       "      <td>9.755319</td>\n",
       "    </tr>\n",
       "    <tr>\n",
       "      <th>22</th>\n",
       "      <td>1983</td>\n",
       "      <td>1.972973</td>\n",
       "      <td>15.567568</td>\n",
       "      <td>3.432432</td>\n",
       "    </tr>\n",
       "  </tbody>\n",
       "</table>\n",
       "</div>"
      ],
      "text/plain": [
       "     AÑO  PRECIPPROM   TMAXPROM   TMINPROM\n",
       "0   1961    2.335458  25.277291  12.974900\n",
       "1   1962    1.171148  23.733894  11.363866\n",
       "2   1963    1.255342  23.531781  10.848767\n",
       "3   1964    1.389891  22.084973   9.214481\n",
       "4   1965    1.650552  23.147514   9.703867\n",
       "5   1966    1.520571  23.155714  10.186571\n",
       "6   1967    1.747383  23.329752   9.905234\n",
       "7   1968    1.580548  22.496438   9.609041\n",
       "8   1969    0.808403  23.455462   9.907563\n",
       "9   1970    1.035143  23.400000   9.932857\n",
       "10  1971    1.781644  22.589589   8.864932\n",
       "11  1972    1.136339  23.356011  10.017760\n",
       "12  1973    1.271468  22.249030   9.392244\n",
       "13  1974    1.249315  22.622466   9.483014\n",
       "14  1975    1.215470  22.295856   8.836188\n",
       "15  1976    1.346995  22.670492   9.044536\n",
       "16  1977    1.718904  21.222192   9.758356\n",
       "17  1978    2.459889  22.356825   9.887187\n",
       "18  1979    1.517925  21.823113   8.370283\n",
       "19  1980    1.192208  25.441558  13.103896\n",
       "20  1981    1.037086  33.424503  12.433775\n",
       "21  1982    1.835106  27.127660   9.755319\n",
       "22  1983    1.972973  15.567568   3.432432"
      ]
     },
     "execution_count": 23,
     "metadata": {},
     "output_type": "execute_result"
    }
   ],
   "source": [
    "datos_anual = {'AÑO': AÑOS, 'PRECIPPROM': PRECIPANUALPROM, 'TMAXPROM': TMAXANUALPROM, 'TMINPROM': TMINANUALPROM}\n",
    "df_anual = pd.DataFrame(data=datos_anual)\n",
    "df_anual"
   ]
  },
  {
   "cell_type": "code",
   "execution_count": 25,
   "metadata": {},
   "outputs": [
    {
     "data": {
      "image/png": "[encoded data removed]",
      "text/plain": [
       "<Figure size 432x288 with 1 Axes>"
      ]
     },
     "metadata": {
      "needs_background": "light"
     },
     "output_type": "display_data"
    }
   ],
   "source": [
    "MESESc = calendar.month_name[1:13] \n",
    "fecha = MESES\n",
    "PRECIPMENSUAL = PRECIPMESPROM\n",
    "\n",
    "#Calculando anchura óptima\n",
    "width = np.min(np.diff(fecha))/3\n",
    "\n",
    "#Graficando\n",
    "plt.bar(fecha-width, PRECIPMENSUAL,width,align='center', alpha=0.7)\n",
    "plt.xticks(fecha-width, MESESc, size = 'small', color = 'k', rotation = 90)\n",
    "plt.ylabel('Precipitación (mm)')\n",
    "plt.title('Precipitación mensual acumulada promedio (1963-1981)')\n",
    "plt.gca().legend(('PMENSUAL'),frameon=False,loc='upper left')\n",
    "plt.savefig('precipromensual',plt=2000)\n",
    "plt.show()"
   ]
  },
  {
   "cell_type": "code",
   "execution_count": 26,
   "metadata": {},
   "outputs": [
    {
     "data": {
      "image/png": "[encoded data removed]",
      "text/plain": [
       "<Figure size 432x288 with 1 Axes>"
      ]
     },
     "metadata": {
      "needs_background": "light"
     },
     "output_type": "display_data"
    }
   ],
   "source": [
    "X = AÑOS\n",
    "N = np.arange(len(X)) #Longitud del arreglo de datos\n",
    "Y1 = TMAXANUALPROM\n",
    "Y2 = TMINANUALPROM\n",
    "\n",
    "plt.plot(Y1, label=\"Temperatura mínima\", color = 'b')\n",
    "plt.xlabel(\"Años\")\n",
    "plt.ylabel(\"Temperatura (C)\")\n",
    "\n",
    "\n",
    "plt.xticks(N, X, size = 'small',color = 'k',rotation = 90)\n",
    "\n",
    "\n",
    "plt.plot(Y2, label=\"Temperatura máxima\", color = 'y')\n",
    "plt.legend()\n",
    "plt.title('Evolución anual de la temperatura promedio (1963-1981)')\n",
    "plt.savefig('tempanual',plt=2000)\n",
    "plt.show()"
   ]
  },
  {
   "cell_type": "code",
   "execution_count": 27,
   "metadata": {},
   "outputs": [
    {
     "data": {
      "image/png": "[encoded data removed]",
      "text/plain": [
       "<Figure size 432x288 with 1 Axes>"
      ]
     },
     "metadata": {
      "needs_background": "light"
     },
     "output_type": "display_data"
    }
   ],
   "source": [
    "fecha = AÑOS\n",
    "PRECIPANUAL = PRECIPANUALPROM\n",
    "\n",
    "width = np.min(np.diff(fecha))/3\n",
    "\n",
    "#Graficando\n",
    "plt.bar(fecha-width, PRECIPANUAL,width,align='center', alpha=0.7)\n",
    "plt.xticks(fecha-width, AÑOS, size = 'small', color = 'k', rotation = 90)\n",
    "plt.ylabel('Precipitación (mm)')\n",
    "plt.title('Precipitación anual acumulada promedio (1963-1981)')\n",
    "plt.gca().legend(('PMANUAL'),frameon=False,loc='upper left')\n",
    "plt.savefig('precipromanual',plt=2000)\n",
    "plt.show()"
   ]
  },
  {
   "cell_type": "code",
   "execution_count": 28,
   "metadata": {},
   "outputs": [
    {
     "data": {
      "image/png": "[encoded data removed]",
      "text/plain": [
       "<Figure size 432x288 with 1 Axes>"
      ]
     },
     "metadata": {
      "needs_background": "light"
     },
     "output_type": "display_data"
    }
   ],
   "source": [
    "ax = sns.boxplot(x=\"MES\", y=\"TMAX\", data=df)\n",
    "ax.set(xlabel='Meses', ylabel='Temperaturas máximas (C)')\n",
    "sns.despine()\n",
    "plt.savefig('cajatmaxmensualsns',plt=2000)\n",
    "plt.show()"
   ]
  },
  {
   "cell_type": "code",
   "execution_count": 29,
   "metadata": {},
   "outputs": [
    {
     "data": {
      "image/png": "[encoded data removed]",
      "text/plain": [
       "<Figure size 432x288 with 1 Axes>"
      ]
     },
     "metadata": {
      "needs_background": "light"
     },
     "output_type": "display_data"
    }
   ],
   "source": [
    "ax = sns.boxplot(x=\"MES\", y=\"TMIN\", data=df)\n",
    "ax.set(xlabel='Meses', ylabel='Temperaturas mínimas (C)')\n",
    "sns.despine() \n",
    "plt.savefig('cajatminmensualsns',plt=2000) \n",
    "plt.show()"
   ]
  },
  {
   "cell_type": "code",
   "execution_count": null,
   "metadata": {},
   "outputs": [],
   "source": []
  },
  {
   "cell_type": "code",
   "execution_count": 30,
   "metadata": {},
   "outputs": [
    {
     "data": {
      "image/png": "[encoded data removed]",
      "text/plain": [
       "<Figure size 432x288 with 1 Axes>"
      ]
     },
     "metadata": {
      "needs_background": "light"
     },
     "output_type": "display_data"
    }
   ],
   "source": [
    "ax = sns.boxplot(x=\"AÑO\", y=\"TMAX\", data=df)\n",
    "ax.set(xlabel='Años', ylabel='Temperaturas máximas (C)')\n",
    "ax.set_xticklabels(ax.get_xticklabels(),rotation=90) \n",
    "ax.tick_params(labelsize=8) \n",
    "sns.despine()\n",
    "plt.savefig('cajatmaxanual',plt=2000)\n",
    "plt.show()"
   ]
  },
  {
   "cell_type": "code",
   "execution_count": 31,
   "metadata": {},
   "outputs": [
    {
     "data": {
      "image/png": "[encoded data removed]",
      "text/plain": [
       "<Figure size 432x288 with 1 Axes>"
      ]
     },
     "metadata": {
      "needs_background": "light"
     },
     "output_type": "display_data"
    }
   ],
   "source": [
    "ax = sns.boxplot(x=\"AÑO\", y=\"TMIN\", data=df)\n",
    "ax.set(xlabel='Años', ylabel='Temperaturas mínimas (C)')\n",
    "ax.set_xticklabels(ax.get_xticklabels(),rotation=90)\n",
    "ax.tick_params(labelsize=8) \n",
    "sns.despine() \n",
    "plt.savefig('cajatminanualsns',plt=2000) \n",
    "plt.show()"
   ]
  },
  {
   "cell_type": "code",
   "execution_count": 36,
   "metadata": {},
   "outputs": [],
   "source": [
    "data_to_plot = [df[df.MES==1].TMAX,df[df.MES==1].TMIN]"
   ]
  },
  {
   "cell_type": "code",
   "execution_count": 37,
   "metadata": {},
   "outputs": [
    {
     "data": {
      "image/png": "[encoded data removed]",
      "text/plain": [
       "<Figure size 648x432 with 1 Axes>"
      ]
     },
     "metadata": {
      "needs_background": "light"
     },
     "output_type": "display_data"
    }
   ],
   "source": [
    "fig = plt.figure(1, figsize=(9, 6))\n",
    "\n",
    "ax = fig.add_subplot(111)\n",
    "\n",
    "labels = ['TMAX','TMIN']\n",
    "\n",
    "bp = ax.boxplot(data_to_plot,\n",
    "                vert=True, \n",
    "                patch_artist=True, \n",
    "                labels=labels)\n",
    "\n",
    "ax.set_title('Temperatura máxima mensual')\n",
    "ax.set_xlabel('Meses')\n",
    "ax.set_ylabel('Temperatura máxima (C)')\n",
    "        \n",
    "fig.savefig('cajastmaxmeses.png', bbox_inches='tight')\n",
    "\n",
    "plt.show()"
   ]
  },
  {
   "cell_type": "code",
   "execution_count": 39,
   "metadata": {},
   "outputs": [],
   "source": [
    "data_to_plot = [df[df.MES==1].TMAX, df[df.MES==2].TMAX, df[df.MES==3].TMAX, \n",
    "                df[df.MES==4].TMAX, df[df.MES==5].TMAX,df[df.MES==6].TMAX, \n",
    "                df[df.MES==7].TMAX, df[df.MES==8].TMAX, df[df.MES==9].TMAX, \n",
    "                df[df.MES==10].TMAX,df[df.MES==11].TMAX, df[df.MES==12].TMAX]"
   ]
  },
  {
   "cell_type": "code",
   "execution_count": 40,
   "metadata": {},
   "outputs": [
    {
     "data": {
      "image/png": "[encoded data removed]",
      "text/plain": [
       "<Figure size 648x432 with 1 Axes>"
      ]
     },
     "metadata": {
      "needs_background": "light"
     },
     "output_type": "display_data"
    }
   ],
   "source": [
    "fig = plt.figure(1, figsize=(9, 6))\n",
    "\n",
    "ax = fig.add_subplot(111)\n",
    "\n",
    "labels = ['ENE','FEB','MAR','ABR','MAY','JUN','JUL','AGO','SEP','OCT','NOV','DIC']\n",
    "\n",
    "bp = ax.boxplot(data_to_plot,\n",
    "                vert=True,  \n",
    "                patch_artist=True, \n",
    "                labels=labels)\n",
    "\n",
    "ax.set_title('Temperatura máxima mensual')\n",
    "ax.set_xlabel('Meses')\n",
    "ax.set_ylabel('Temperatura máxima (C)')\n",
    "        \n",
    "fig.savefig('cajastmaxmeses.png', bbox_inches='tight')\n",
    "\n",
    "plt.show()"
   ]
  },
  {
   "cell_type": "code",
   "execution_count": null,
   "metadata": {},
   "outputs": [],
   "source": []
  }
 ],
 "metadata": {
  "kernelspec": {
   "display_name": "Python 3",
   "language": "python",
   "name": "python3"
  },
  "language_info": {
   "codemirror_mode": {
    "name": "ipython",
    "version": 3
   },
   "file_extension": ".py",
   "mimetype": "text/x-python",
   "name": "python",
   "nbconvert_exporter": "python",
   "pygments_lexer": "ipython3",
   "version": "3.7.1"
  }
 },
 "nbformat": 4,
 "nbformat_minor": 2
}
